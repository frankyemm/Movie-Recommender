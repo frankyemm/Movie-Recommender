{
 "cells": [
  {
   "cell_type": "markdown",
   "metadata": {},
   "source": [
    "# Importamos las librerías necesarias para poder realizar el ETL"
   ]
  },
  {
   "cell_type": "code",
   "execution_count": 9,
   "metadata": {},
   "outputs": [],
   "source": [
    "import pandas as pd\n",
    "import numpy as np\n",
    "import os\n",
    "import sys\n",
    "\n",
    "ruta_etl = os.path.abspath(os.path.join('..', 'ETL_functs'))\n",
    "    \n",
    "from desanida_ import desanida_column, extraer_directores\n",
    "\n",
    "pd.set_option('display.max_columns', None)"
   ]
  },
  {
   "cell_type": "markdown",
   "metadata": {},
   "source": [
    "Realizamos la carga de los datasets `movies_dataset.csv` y `credits.csv`"
   ]
  },
  {
   "cell_type": "code",
   "execution_count": 2,
   "metadata": {},
   "outputs": [
    {
     "name": "stdout",
     "output_type": "stream",
     "text": [
      "(45466, 24)\n",
      "adult                     object\n",
      "belongs_to_collection     object\n",
      "budget                    object\n",
      "genres                    object\n",
      "homepage                  object\n",
      "id                        object\n",
      "imdb_id                   object\n",
      "original_language         object\n",
      "original_title            object\n",
      "overview                  object\n",
      "popularity                object\n",
      "poster_path               object\n",
      "production_companies      object\n",
      "production_countries      object\n",
      "release_date              object\n",
      "revenue                  float64\n",
      "runtime                  float64\n",
      "spoken_languages          object\n",
      "status                    object\n",
      "tagline                   object\n",
      "title                     object\n",
      "video                     object\n",
      "vote_average             float64\n",
      "vote_count               float64\n",
      "dtype: object\n"
     ]
    },
    {
     "name": "stderr",
     "output_type": "stream",
     "text": [
      "h:\\Sistema-de-Recomendacion-de-Peliculas\\venv\\lib\\site-packages\\IPython\\core\\interactiveshell.py:3258: DtypeWarning: Columns (10) have mixed types.Specify dtype option on import or set low_memory=False.\n",
      "  interactivity=interactivity, compiler=compiler, result=result)\n"
     ]
    },
    {
     "data": {
      "text/html": [
       "<div>\n",
       "<style scoped>\n",
       "    .dataframe tbody tr th:only-of-type {\n",
       "        vertical-align: middle;\n",
       "    }\n",
       "\n",
       "    .dataframe tbody tr th {\n",
       "        vertical-align: top;\n",
       "    }\n",
       "\n",
       "    .dataframe thead th {\n",
       "        text-align: right;\n",
       "    }\n",
       "</style>\n",
       "<table border=\"1\" class=\"dataframe\">\n",
       "  <thead>\n",
       "    <tr style=\"text-align: right;\">\n",
       "      <th></th>\n",
       "      <th>adult</th>\n",
       "      <th>belongs_to_collection</th>\n",
       "      <th>budget</th>\n",
       "      <th>genres</th>\n",
       "      <th>homepage</th>\n",
       "      <th>id</th>\n",
       "      <th>imdb_id</th>\n",
       "      <th>original_language</th>\n",
       "      <th>original_title</th>\n",
       "      <th>overview</th>\n",
       "      <th>popularity</th>\n",
       "      <th>poster_path</th>\n",
       "      <th>production_companies</th>\n",
       "      <th>production_countries</th>\n",
       "      <th>release_date</th>\n",
       "      <th>revenue</th>\n",
       "      <th>runtime</th>\n",
       "      <th>spoken_languages</th>\n",
       "      <th>status</th>\n",
       "      <th>tagline</th>\n",
       "      <th>title</th>\n",
       "      <th>video</th>\n",
       "      <th>vote_average</th>\n",
       "      <th>vote_count</th>\n",
       "    </tr>\n",
       "  </thead>\n",
       "  <tbody>\n",
       "    <tr>\n",
       "      <th>0</th>\n",
       "      <td>False</td>\n",
       "      <td>{'id': 10194, 'name': 'Toy Story Collection', ...</td>\n",
       "      <td>30000000</td>\n",
       "      <td>[{'id': 16, 'name': 'Animation'}, {'id': 35, '...</td>\n",
       "      <td>http://toystory.disney.com/toy-story</td>\n",
       "      <td>862</td>\n",
       "      <td>tt0114709</td>\n",
       "      <td>en</td>\n",
       "      <td>Toy Story</td>\n",
       "      <td>Led by Woody, Andy's toys live happily in his ...</td>\n",
       "      <td>21.9469</td>\n",
       "      <td>/rhIRbceoE9lR4veEXuwCC2wARtG.jpg</td>\n",
       "      <td>[{'name': 'Pixar Animation Studios', 'id': 3}]</td>\n",
       "      <td>[{'iso_3166_1': 'US', 'name': 'United States o...</td>\n",
       "      <td>1995-10-30</td>\n",
       "      <td>373554033.0</td>\n",
       "      <td>81.0</td>\n",
       "      <td>[{'iso_639_1': 'en', 'name': 'English'}]</td>\n",
       "      <td>Released</td>\n",
       "      <td>NaN</td>\n",
       "      <td>Toy Story</td>\n",
       "      <td>False</td>\n",
       "      <td>7.7</td>\n",
       "      <td>5415.0</td>\n",
       "    </tr>\n",
       "  </tbody>\n",
       "</table>\n",
       "</div>"
      ],
      "text/plain": [
       "   adult                              belongs_to_collection    budget  \\\n",
       "0  False  {'id': 10194, 'name': 'Toy Story Collection', ...  30000000   \n",
       "\n",
       "                                              genres  \\\n",
       "0  [{'id': 16, 'name': 'Animation'}, {'id': 35, '...   \n",
       "\n",
       "                               homepage   id    imdb_id original_language  \\\n",
       "0  http://toystory.disney.com/toy-story  862  tt0114709                en   \n",
       "\n",
       "  original_title                                           overview  \\\n",
       "0      Toy Story  Led by Woody, Andy's toys live happily in his ...   \n",
       "\n",
       "  popularity                       poster_path  \\\n",
       "0    21.9469  /rhIRbceoE9lR4veEXuwCC2wARtG.jpg   \n",
       "\n",
       "                             production_companies  \\\n",
       "0  [{'name': 'Pixar Animation Studios', 'id': 3}]   \n",
       "\n",
       "                                production_countries release_date  \\\n",
       "0  [{'iso_3166_1': 'US', 'name': 'United States o...   1995-10-30   \n",
       "\n",
       "       revenue  runtime                          spoken_languages    status  \\\n",
       "0  373554033.0     81.0  [{'iso_639_1': 'en', 'name': 'English'}]  Released   \n",
       "\n",
       "  tagline      title  video  vote_average  vote_count  \n",
       "0     NaN  Toy Story  False           7.7      5415.0  "
      ]
     },
     "execution_count": 2,
     "metadata": {},
     "output_type": "execute_result"
    }
   ],
   "source": [
    "movies_df = pd.read_csv('Datasets/movies_dataset.csv')\n",
    "print(movies_df.shape)\n",
    "print(movies_df.dtypes)\n",
    "movies_df.head(1)"
   ]
  },
  {
   "cell_type": "code",
   "execution_count": 3,
   "metadata": {},
   "outputs": [
    {
     "name": "stdout",
     "output_type": "stream",
     "text": [
      "cast    object\n",
      "crew    object\n",
      "id       int64\n",
      "dtype: object\n",
      "(45476, 3)\n"
     ]
    },
    {
     "data": {
      "text/plain": [
       "0    [{'cast_id': 14, 'character': 'Woody (voice)',...\n",
       "Name: cast, dtype: object"
      ]
     },
     "execution_count": 3,
     "metadata": {},
     "output_type": "execute_result"
    }
   ],
   "source": [
    "credits_df = pd.read_csv('Datasets/credits.csv')\n",
    "print(credits_df.dtypes)\n",
    "print(credits_df.shape)\n",
    "credits_df['cast'].head(1)"
   ]
  },
  {
   "cell_type": "markdown",
   "metadata": {},
   "source": [
    "Debemos de hacer una transformación al tipo de datos de la columna `id` en movies_df debido a que esta la toma como si fuese de tipo str (object), de lo contrario no podremos hacer un merge, además de ello observamos que la columna `popularity` de movies_df es de tipo object, a lo cuál deberemos de transformar a tipo `numeric`"
   ]
  },
  {
   "cell_type": "code",
   "execution_count": 4,
   "metadata": {},
   "outputs": [],
   "source": [
    "credits_df['id'] = credits_df['id'].astype(str)"
   ]
  },
  {
   "cell_type": "code",
   "execution_count": 5,
   "metadata": {},
   "outputs": [],
   "source": [
    "movies_df['popularity'] = pd.to_numeric(movies_df['popularity'], errors='coerce').fillna(0.0)"
   ]
  },
  {
   "cell_type": "code",
   "execution_count": 6,
   "metadata": {},
   "outputs": [
    {
     "name": "stdout",
     "output_type": "stream",
     "text": [
      "(45538, 26)\n"
     ]
    }
   ],
   "source": [
    "# Unimos ambos datasets\n",
    "merged_df = pd.merge(movies_df, credits_df, on = 'id', how= 'inner')\n",
    "print(merged_df.shape)"
   ]
  },
  {
   "cell_type": "markdown",
   "metadata": {},
   "source": [
    "Desanidamos las columnas de `belongs_to_collection`, `genres`, `production_companies`, `production_countries`, `spoken_languages`, en los casos de `cast` y `crew` se decide extraer los 5 actores más representativos de cada película y los directores de las películas utilizando las funciones desanida_column y extraer_directores"
   ]
  },
  {
   "cell_type": "code",
   "execution_count": 7,
   "metadata": {},
   "outputs": [],
   "source": [
    "merged_df['belongs_to_collection'] = merged_df['belongs_to_collection'].apply(lambda x: desanida_column('name', x))"
   ]
  },
  {
   "cell_type": "code",
   "execution_count": 8,
   "metadata": {},
   "outputs": [
    {
     "data": {
      "text/plain": [
       "0                  Toy Story Collection\n",
       "1                                   NaN\n",
       "2             Grumpy Old Men Collection\n",
       "3                                   NaN\n",
       "4        Father of the Bride Collection\n",
       "                      ...              \n",
       "45533                               NaN\n",
       "45534                               NaN\n",
       "45535                               NaN\n",
       "45536                               NaN\n",
       "45537                               NaN\n",
       "Name: belongs_to_collection, Length: 45538, dtype: object"
      ]
     },
     "execution_count": 8,
     "metadata": {},
     "output_type": "execute_result"
    }
   ],
   "source": [
    "merged_df['belongs_to_collection']"
   ]
  },
  {
   "cell_type": "code",
   "execution_count": 9,
   "metadata": {},
   "outputs": [],
   "source": [
    "merged_df['genres'] = merged_df['genres'].apply(lambda x: desanida_column('name', x))"
   ]
  },
  {
   "cell_type": "code",
   "execution_count": 10,
   "metadata": {},
   "outputs": [
    {
     "data": {
      "text/plain": [
       "0         [Animation, Comedy, Family]\n",
       "1        [Adventure, Fantasy, Family]\n",
       "2                   [Romance, Comedy]\n",
       "3            [Comedy, Drama, Romance]\n",
       "4                            [Comedy]\n",
       "                     ...             \n",
       "45533                 [Drama, Family]\n",
       "45534                         [Drama]\n",
       "45535       [Action, Drama, Thriller]\n",
       "45536                              []\n",
       "45537                              []\n",
       "Name: genres, Length: 45538, dtype: object"
      ]
     },
     "execution_count": 10,
     "metadata": {},
     "output_type": "execute_result"
    }
   ],
   "source": [
    "merged_df['genres']"
   ]
  },
  {
   "cell_type": "code",
   "execution_count": 11,
   "metadata": {},
   "outputs": [],
   "source": [
    "merged_df['production_companies'] = merged_df['production_companies'].apply(lambda x: desanida_column('name', x))"
   ]
  },
  {
   "cell_type": "code",
   "execution_count": 12,
   "metadata": {},
   "outputs": [
    {
     "data": {
      "text/plain": [
       "0                                [Pixar Animation Studios]\n",
       "1        [TriStar Pictures, Teitler Film, Interscope Co...\n",
       "2                           [Warner Bros., Lancaster Gate]\n",
       "3                 [Twentieth Century Fox Film Corporation]\n",
       "4             [Sandollar Productions, Touchstone Pictures]\n",
       "                               ...                        \n",
       "45533                                                   []\n",
       "45534                                        [Sine Olivia]\n",
       "45535                            [American World Pictures]\n",
       "45536                                          [Yermoliev]\n",
       "45537                                                   []\n",
       "Name: production_companies, Length: 45538, dtype: object"
      ]
     },
     "execution_count": 12,
     "metadata": {},
     "output_type": "execute_result"
    }
   ],
   "source": [
    "merged_df['production_companies']"
   ]
  },
  {
   "cell_type": "code",
   "execution_count": 13,
   "metadata": {},
   "outputs": [],
   "source": [
    "merged_df['production_countries'] = merged_df['production_countries'].apply(lambda x: desanida_column('name', x))"
   ]
  },
  {
   "cell_type": "code",
   "execution_count": 14,
   "metadata": {},
   "outputs": [
    {
     "data": {
      "text/plain": [
       "0        [United States of America]\n",
       "1        [United States of America]\n",
       "2        [United States of America]\n",
       "3        [United States of America]\n",
       "4        [United States of America]\n",
       "                    ...            \n",
       "45533                        [Iran]\n",
       "45534                 [Philippines]\n",
       "45535    [United States of America]\n",
       "45536                      [Russia]\n",
       "45537              [United Kingdom]\n",
       "Name: production_countries, Length: 45538, dtype: object"
      ]
     },
     "execution_count": 14,
     "metadata": {},
     "output_type": "execute_result"
    }
   ],
   "source": [
    "merged_df['production_countries']"
   ]
  },
  {
   "cell_type": "code",
   "execution_count": 15,
   "metadata": {},
   "outputs": [],
   "source": [
    "merged_df['spoken_languages'] = merged_df['spoken_languages'].apply(lambda x: desanida_column('name', x))"
   ]
  },
  {
   "cell_type": "code",
   "execution_count": 16,
   "metadata": {},
   "outputs": [
    {
     "data": {
      "text/plain": [
       "0                  [English]\n",
       "1        [English, Français]\n",
       "2                  [English]\n",
       "3                  [English]\n",
       "4                  [English]\n",
       "                ...         \n",
       "45533                [فارسی]\n",
       "45534                     []\n",
       "45535              [English]\n",
       "45536                     []\n",
       "45537              [English]\n",
       "Name: spoken_languages, Length: 45538, dtype: object"
      ]
     },
     "execution_count": 16,
     "metadata": {},
     "output_type": "execute_result"
    }
   ],
   "source": [
    "merged_df['spoken_languages']"
   ]
  },
  {
   "cell_type": "markdown",
   "metadata": {},
   "source": [
    "* En este punto se decide tomar solo las películas que tengan como mínimo el idioma `English` en la columna `spoken_languages` debido a que las demás películas generan ruido y además de ello se piensa que las personas no frecuentan películas en otros idiomas"
   ]
  },
  {
   "cell_type": "code",
   "execution_count": 17,
   "metadata": {},
   "outputs": [],
   "source": [
    "merged_df = merged_df[merged_df['spoken_languages'].apply(lambda x: 'English' in x if isinstance(x, list) else False)]"
   ]
  },
  {
   "cell_type": "code",
   "execution_count": 18,
   "metadata": {},
   "outputs": [],
   "source": [
    "merged_df['cast'] = merged_df['cast'].apply(lambda x: desanida_column('name', x, 5))"
   ]
  },
  {
   "cell_type": "code",
   "execution_count": 19,
   "metadata": {},
   "outputs": [
    {
     "data": {
      "text/plain": [
       "0        [Tom Hanks, Tim Allen, Don Rickles, Jim Varney...\n",
       "1        [Robin Williams, Jonathan Hyde, Kirsten Dunst,...\n",
       "2        [Walter Matthau, Jack Lemmon, Ann-Margret, Sop...\n",
       "3        [Whitney Houston, Angela Bassett, Loretta Devi...\n",
       "4        [Steve Martin, Diane Keaton, Martin Short, Kim...\n",
       "                               ...                        \n",
       "45530    [Monty Bane, Lucy Butler, David Grammer, Bill ...\n",
       "45531    [Lisa Boyle, Kena Land, Zaneta Polard, Don Yan...\n",
       "45532    [Patrick Bergin, Uma Thurman, David Morrissey,...\n",
       "45535    [Erika Eleniak, Adam Baldwin, Julie du Page, J...\n",
       "45537                                                   []\n",
       "Name: cast, Length: 28787, dtype: object"
      ]
     },
     "execution_count": 19,
     "metadata": {},
     "output_type": "execute_result"
    }
   ],
   "source": [
    "merged_df['cast']"
   ]
  },
  {
   "cell_type": "markdown",
   "metadata": {},
   "source": [
    "Extraigo el o los directores de cada pelicula"
   ]
  },
  {
   "cell_type": "code",
   "execution_count": 20,
   "metadata": {},
   "outputs": [],
   "source": [
    "merged_df['crew'] = merged_df['crew'].apply(extraer_directores)"
   ]
  },
  {
   "cell_type": "code",
   "execution_count": 21,
   "metadata": {},
   "outputs": [
    {
     "data": {
      "text/plain": [
       "0          [John Lasseter]\n",
       "1           [Joe Johnston]\n",
       "2          [Howard Deutch]\n",
       "3        [Forest Whitaker]\n",
       "4          [Charles Shyer]\n",
       "               ...        \n",
       "45530           [Ben Rock]\n",
       "45531      [Aaron Osborne]\n",
       "45532         [John Irvin]\n",
       "45535     [Mark L. Lester]\n",
       "45537      [Daisy Asquith]\n",
       "Name: crew, Length: 28787, dtype: object"
      ]
     },
     "execution_count": 21,
     "metadata": {},
     "output_type": "execute_result"
    }
   ],
   "source": [
    "merged_df['crew']"
   ]
  },
  {
   "cell_type": "markdown",
   "metadata": {},
   "source": [
    "Los valores nulos de los campos `revenue`, `budget` se rellenan por el número 0."
   ]
  },
  {
   "cell_type": "code",
   "execution_count": 22,
   "metadata": {},
   "outputs": [],
   "source": [
    "replaced_nulls = ['revenue', 'budget']\n",
    "merged_df[replaced_nulls] = merged_df[replaced_nulls].fillna(0)\n",
    "merged_df[replaced_nulls] = merged_df[replaced_nulls].replace(False, float)\n",
    "merged_df['revenue'] = pd.to_numeric(merged_df['revenue'])\n",
    "merged_df['budget'] = pd.to_numeric(merged_df['budget'])"
   ]
  },
  {
   "cell_type": "markdown",
   "metadata": {},
   "source": [
    "Los valores nulos del campo `release_date` se eliminan"
   ]
  },
  {
   "cell_type": "code",
   "execution_count": 23,
   "metadata": {},
   "outputs": [],
   "source": [
    "merged_df.dropna(subset=['release_date'], inplace= True)"
   ]
  },
  {
   "cell_type": "markdown",
   "metadata": {},
   "source": [
    "Se verifica que las fechas tengan el formato AAAA-mm-dd, además se crea la columna `release_year` donde extrae el año de la fecha de estreno."
   ]
  },
  {
   "cell_type": "code",
   "execution_count": 24,
   "metadata": {},
   "outputs": [
    {
     "name": "stdout",
     "output_type": "stream",
     "text": [
      "Filas con fechas válidas en formato AAAA-MM-DD:\n",
      "       adult           belongs_to_collection    budget  \\\n",
      "0      False            Toy Story Collection  30000000   \n",
      "1      False                             NaN  65000000   \n",
      "2      False       Grumpy Old Men Collection         0   \n",
      "3      False                             NaN  16000000   \n",
      "4      False  Father of the Bride Collection         0   \n",
      "...      ...                             ...       ...   \n",
      "45530  False                             NaN         0   \n",
      "45531  False                             NaN         0   \n",
      "45532  False                             NaN         0   \n",
      "45535  False                             NaN         0   \n",
      "45537  False                             NaN         0   \n",
      "\n",
      "                             genres                              homepage  \\\n",
      "0       [Animation, Comedy, Family]  http://toystory.disney.com/toy-story   \n",
      "1      [Adventure, Fantasy, Family]                                   NaN   \n",
      "2                 [Romance, Comedy]                                   NaN   \n",
      "3          [Comedy, Drama, Romance]                                   NaN   \n",
      "4                          [Comedy]                                   NaN   \n",
      "...                             ...                                   ...   \n",
      "45530                      [Horror]                                   NaN   \n",
      "45531             [Science Fiction]                                   NaN   \n",
      "45532      [Drama, Action, Romance]                                   NaN   \n",
      "45535     [Action, Drama, Thriller]                                   NaN   \n",
      "45537                            []                                   NaN   \n",
      "\n",
      "           id    imdb_id original_language               original_title  \\\n",
      "0         862  tt0114709                en                    Toy Story   \n",
      "1        8844  tt0113497                en                      Jumanji   \n",
      "2       15602  tt0113228                en             Grumpier Old Men   \n",
      "3       31357  tt0114885                en            Waiting to Exhale   \n",
      "4       11862  tt0113041                en  Father of the Bride Part II   \n",
      "...       ...        ...               ...                          ...   \n",
      "45530  289923  tt0252966                en          The Burkittsville 7   \n",
      "45531  222848  tt0112613                en              Caged Heat 3000   \n",
      "45532   30840  tt0102797                en                   Robin Hood   \n",
      "45535   67758  tt0303758                en                     Betrayal   \n",
      "45537  461257  tt6980792                en                     Queerama   \n",
      "\n",
      "                                                overview  popularity  \\\n",
      "0      Led by Woody, Andy's toys live happily in his ...   21.946943   \n",
      "1      When siblings Judy and Peter discover an encha...   17.015539   \n",
      "2      A family wedding reignites the ancient feud be...   11.712900   \n",
      "3      Cheated on, mistreated and stepped on, the wom...    3.859495   \n",
      "4      Just when George Banks has recovered from his ...    8.387519   \n",
      "...                                                  ...         ...   \n",
      "45530  A film archivist revisits the story of Rustin ...    0.386450   \n",
      "45531  It's the year 3000 AD. The world's most danger...    0.661558   \n",
      "45532  Yet another version of the classic epic, with ...    5.683753   \n",
      "45535  When one of her hits goes wrong, a professiona...    0.903007   \n",
      "45537  50 years after decriminalisation of homosexual...    0.163015   \n",
      "\n",
      "                            poster_path  \\\n",
      "0      /rhIRbceoE9lR4veEXuwCC2wARtG.jpg   \n",
      "1      /vzmL6fP7aPKNKPRTFnZmiUfciyV.jpg   \n",
      "2      /6ksm1sjKMFLbO7UY2i6G1ju9SML.jpg   \n",
      "3      /16XOMpEaLWkrcPqSQqhTmeJuqQl.jpg   \n",
      "4      /e64sOI48hQXyru7naBFyssKFxVd.jpg   \n",
      "...                                 ...   \n",
      "45530  /lXtoHVdej6kS1Dc7KAhw05sMos9.jpg   \n",
      "45531  /4lF9LH0b0Z1X94xGK9IOzqEW6k1.jpg   \n",
      "45532  /fQC46NglNiEMZBv5XHoyLuOWoN5.jpg   \n",
      "45535  /d5bX92nDsISNhu3ZT69uHwmfCGw.jpg   \n",
      "45537  /s5UkZt6NTsrS7ZF0Rh8nzupRlIU.jpg   \n",
      "\n",
      "                                    production_companies  \\\n",
      "0                              [Pixar Animation Studios]   \n",
      "1      [TriStar Pictures, Teitler Film, Interscope Co...   \n",
      "2                         [Warner Bros., Lancaster Gate]   \n",
      "3               [Twentieth Century Fox Film Corporation]   \n",
      "4           [Sandollar Productions, Touchstone Pictures]   \n",
      "...                                                  ...   \n",
      "45530   [Neptune Salad Entertainment, Pirie Productions]   \n",
      "45531                            [Concorde-New Horizons]   \n",
      "45532  [Westdeutscher Rundfunk (WDR), Working Title F...   \n",
      "45535                          [American World Pictures]   \n",
      "45537                                                 []   \n",
      "\n",
      "                                    production_countries release_date  \\\n",
      "0                             [United States of America]   1995-10-30   \n",
      "1                             [United States of America]   1995-12-15   \n",
      "2                             [United States of America]   1995-12-22   \n",
      "3                             [United States of America]   1995-12-22   \n",
      "4                             [United States of America]   1995-02-10   \n",
      "...                                                  ...          ...   \n",
      "45530                         [United States of America]   2000-10-03   \n",
      "45531                         [United States of America]   1995-01-01   \n",
      "45532  [Canada, Germany, United Kingdom, United State...   1991-05-13   \n",
      "45535                         [United States of America]   2003-08-01   \n",
      "45537                                   [United Kingdom]   2017-06-09   \n",
      "\n",
      "           revenue  runtime     spoken_languages    status  \\\n",
      "0      373554033.0     81.0            [English]  Released   \n",
      "1      262797249.0    104.0  [English, Français]  Released   \n",
      "2              0.0    101.0            [English]  Released   \n",
      "3       81452156.0    127.0            [English]  Released   \n",
      "4       76578911.0    106.0            [English]  Released   \n",
      "...            ...      ...                  ...       ...   \n",
      "45530          0.0     30.0            [English]  Released   \n",
      "45531          0.0     85.0            [English]  Released   \n",
      "45532          0.0    104.0            [English]  Released   \n",
      "45535          0.0     90.0            [English]  Released   \n",
      "45537          0.0     75.0            [English]  Released   \n",
      "\n",
      "                                                 tagline  \\\n",
      "0                                                    NaN   \n",
      "1              Roll the dice and unleash the excitement!   \n",
      "2      Still Yelling. Still Fighting. Still Ready for...   \n",
      "3      Friends are the people who let you be yourself...   \n",
      "4      Just When His World Is Back To Normal... He's ...   \n",
      "...                                                  ...   \n",
      "45530  Do you know what happened 50 years before \"The...   \n",
      "45531                                                NaN   \n",
      "45532                                                NaN   \n",
      "45535                             A deadly game of wits.   \n",
      "45537                                                NaN   \n",
      "\n",
      "                             title  video  vote_average  vote_count  \\\n",
      "0                        Toy Story  False           7.7      5415.0   \n",
      "1                          Jumanji  False           6.9      2413.0   \n",
      "2                 Grumpier Old Men  False           6.5        92.0   \n",
      "3                Waiting to Exhale  False           6.1        34.0   \n",
      "4      Father of the Bride Part II  False           5.7       173.0   \n",
      "...                            ...    ...           ...         ...   \n",
      "45530          The Burkittsville 7  False           7.0         1.0   \n",
      "45531              Caged Heat 3000  False           3.5         1.0   \n",
      "45532                   Robin Hood  False           5.7        26.0   \n",
      "45535                     Betrayal  False           3.8         6.0   \n",
      "45537                     Queerama  False           0.0         0.0   \n",
      "\n",
      "                                                    cast               crew  \n",
      "0      [Tom Hanks, Tim Allen, Don Rickles, Jim Varney...    [John Lasseter]  \n",
      "1      [Robin Williams, Jonathan Hyde, Kirsten Dunst,...     [Joe Johnston]  \n",
      "2      [Walter Matthau, Jack Lemmon, Ann-Margret, Sop...    [Howard Deutch]  \n",
      "3      [Whitney Houston, Angela Bassett, Loretta Devi...  [Forest Whitaker]  \n",
      "4      [Steve Martin, Diane Keaton, Martin Short, Kim...    [Charles Shyer]  \n",
      "...                                                  ...                ...  \n",
      "45530  [Monty Bane, Lucy Butler, David Grammer, Bill ...         [Ben Rock]  \n",
      "45531  [Lisa Boyle, Kena Land, Zaneta Polard, Don Yan...    [Aaron Osborne]  \n",
      "45532  [Patrick Bergin, Uma Thurman, David Morrissey,...       [John Irvin]  \n",
      "45535  [Erika Eleniak, Adam Baldwin, Julie du Page, J...   [Mark L. Lester]  \n",
      "45537                                                 []    [Daisy Asquith]  \n",
      "\n",
      "[28771 rows x 26 columns]\n",
      "\n",
      "Filas con fechas inválidas o en otro formato:\n",
      "Empty DataFrame\n",
      "Columns: [adult, belongs_to_collection, budget, genres, homepage, id, imdb_id, original_language, original_title, overview, popularity, poster_path, production_companies, production_countries, release_date, revenue, runtime, spoken_languages, status, tagline, title, video, vote_average, vote_count, cast, crew]\n",
      "Index: []\n"
     ]
    }
   ],
   "source": [
    "merged_df['release_date'] = pd.to_datetime(merged_df['release_date'], format='%Y-%m-%d', errors='coerce')\n",
    "fechas_invalidas = merged_df[merged_df['release_date'].isna()]\n",
    "fechas_validas = merged_df[merged_df['release_date'].notna()]\n",
    "\n",
    "# Imprime los resultados\n",
    "print(\"Filas con fechas válidas en formato AAAA-MM-DD:\")\n",
    "print(fechas_validas)\n",
    "print(\"\\nFilas con fechas inválidas o en otro formato:\")\n",
    "print(fechas_invalidas)\n",
    "\n",
    "# Se crea la columna 'release_year' para extraer el año de lanzamiento\n",
    "merged_df['release_year'] = merged_df['release_date'].dt.year"
   ]
  },
  {
   "cell_type": "code",
   "execution_count": 25,
   "metadata": {},
   "outputs": [
    {
     "data": {
      "text/plain": [
       "44814    1903\n",
       "44816    1906\n",
       "44806    1909\n",
       "32399    1911\n",
       "44822    1911\n",
       "         ... \n",
       "33442    2018\n",
       "44610    2018\n",
       "38963    2018\n",
       "30482    2018\n",
       "26644    2020\n",
       "Name: release_year, Length: 28771, dtype: int64"
      ]
     },
     "execution_count": 25,
     "metadata": {},
     "output_type": "execute_result"
    }
   ],
   "source": [
    "merged_df['release_year'].sort_values()"
   ]
  },
  {
   "cell_type": "markdown",
   "metadata": {},
   "source": [
    "Se decide eliminar las películas que son anteriores a la década de los 60's debido a que se cree que no son películas que sean muy frecuentadas por las personas"
   ]
  },
  {
   "cell_type": "code",
   "execution_count": 26,
   "metadata": {},
   "outputs": [
    {
     "data": {
      "text/html": [
       "<div>\n",
       "<style scoped>\n",
       "    .dataframe tbody tr th:only-of-type {\n",
       "        vertical-align: middle;\n",
       "    }\n",
       "\n",
       "    .dataframe tbody tr th {\n",
       "        vertical-align: top;\n",
       "    }\n",
       "\n",
       "    .dataframe thead th {\n",
       "        text-align: right;\n",
       "    }\n",
       "</style>\n",
       "<table border=\"1\" class=\"dataframe\">\n",
       "  <thead>\n",
       "    <tr style=\"text-align: right;\">\n",
       "      <th></th>\n",
       "      <th>adult</th>\n",
       "      <th>belongs_to_collection</th>\n",
       "      <th>budget</th>\n",
       "      <th>genres</th>\n",
       "      <th>homepage</th>\n",
       "      <th>id</th>\n",
       "      <th>imdb_id</th>\n",
       "      <th>original_language</th>\n",
       "      <th>original_title</th>\n",
       "      <th>overview</th>\n",
       "      <th>popularity</th>\n",
       "      <th>poster_path</th>\n",
       "      <th>production_companies</th>\n",
       "      <th>production_countries</th>\n",
       "      <th>release_date</th>\n",
       "      <th>revenue</th>\n",
       "      <th>runtime</th>\n",
       "      <th>spoken_languages</th>\n",
       "      <th>status</th>\n",
       "      <th>tagline</th>\n",
       "      <th>title</th>\n",
       "      <th>video</th>\n",
       "      <th>vote_average</th>\n",
       "      <th>vote_count</th>\n",
       "      <th>cast</th>\n",
       "      <th>crew</th>\n",
       "      <th>release_year</th>\n",
       "    </tr>\n",
       "  </thead>\n",
       "  <tbody>\n",
       "    <tr>\n",
       "      <th>0</th>\n",
       "      <td>False</td>\n",
       "      <td>Toy Story Collection</td>\n",
       "      <td>30000000</td>\n",
       "      <td>[Animation, Comedy, Family]</td>\n",
       "      <td>http://toystory.disney.com/toy-story</td>\n",
       "      <td>862</td>\n",
       "      <td>tt0114709</td>\n",
       "      <td>en</td>\n",
       "      <td>Toy Story</td>\n",
       "      <td>Led by Woody, Andy's toys live happily in his ...</td>\n",
       "      <td>21.946943</td>\n",
       "      <td>/rhIRbceoE9lR4veEXuwCC2wARtG.jpg</td>\n",
       "      <td>[Pixar Animation Studios]</td>\n",
       "      <td>[United States of America]</td>\n",
       "      <td>1995-10-30</td>\n",
       "      <td>373554033.0</td>\n",
       "      <td>81.0</td>\n",
       "      <td>[English]</td>\n",
       "      <td>Released</td>\n",
       "      <td>NaN</td>\n",
       "      <td>Toy Story</td>\n",
       "      <td>False</td>\n",
       "      <td>7.7</td>\n",
       "      <td>5415.0</td>\n",
       "      <td>[Tom Hanks, Tim Allen, Don Rickles, Jim Varney...</td>\n",
       "      <td>[John Lasseter]</td>\n",
       "      <td>1995</td>\n",
       "    </tr>\n",
       "  </tbody>\n",
       "</table>\n",
       "</div>"
      ],
      "text/plain": [
       "   adult belongs_to_collection    budget                       genres  \\\n",
       "0  False  Toy Story Collection  30000000  [Animation, Comedy, Family]   \n",
       "\n",
       "                               homepage   id    imdb_id original_language  \\\n",
       "0  http://toystory.disney.com/toy-story  862  tt0114709                en   \n",
       "\n",
       "  original_title                                           overview  \\\n",
       "0      Toy Story  Led by Woody, Andy's toys live happily in his ...   \n",
       "\n",
       "   popularity                       poster_path       production_companies  \\\n",
       "0   21.946943  /rhIRbceoE9lR4veEXuwCC2wARtG.jpg  [Pixar Animation Studios]   \n",
       "\n",
       "         production_countries release_date      revenue  runtime  \\\n",
       "0  [United States of America]   1995-10-30  373554033.0     81.0   \n",
       "\n",
       "  spoken_languages    status tagline      title  video  vote_average  \\\n",
       "0        [English]  Released     NaN  Toy Story  False           7.7   \n",
       "\n",
       "   vote_count                                               cast  \\\n",
       "0      5415.0  [Tom Hanks, Tim Allen, Don Rickles, Jim Varney...   \n",
       "\n",
       "              crew  release_year  \n",
       "0  [John Lasseter]          1995  "
      ]
     },
     "execution_count": 26,
     "metadata": {},
     "output_type": "execute_result"
    }
   ],
   "source": [
    "merged_df = merged_df[merged_df['release_year'] >= 1960]\n",
    "merged_df.head(1)"
   ]
  },
  {
   "cell_type": "markdown",
   "metadata": {},
   "source": [
    "Se crea la columna con el retorno de inversión, llamada return con los campos `revenue` y `budget`, dividiendo estas dos últimas `revenue` / `budget`, y, cuando no hay datos disponibles para calcularlo, se toma el valor 0."
   ]
  },
  {
   "cell_type": "code",
   "execution_count": 27,
   "metadata": {},
   "outputs": [],
   "source": [
    "merged_df['return'] = np.where(merged_df['budget'] != 0, merged_df['revenue'] / merged_df['budget'], 0)"
   ]
  },
  {
   "cell_type": "code",
   "execution_count": 28,
   "metadata": {},
   "outputs": [
    {
     "data": {
      "text/plain": [
       "0.000000    19921\n",
       "2.000000        8\n",
       "4.000000        7\n",
       "1.000000        6\n",
       "4.275705        4\n",
       "            ...  \n",
       "0.010018        1\n",
       "4.910743        1\n",
       "0.122080        1\n",
       "0.071040        1\n",
       "1.869934        1\n",
       "Name: return, Length: 4650, dtype: int64"
      ]
     },
     "execution_count": 28,
     "metadata": {},
     "output_type": "execute_result"
    }
   ],
   "source": [
    "merged_df['return'].value_counts()"
   ]
  },
  {
   "cell_type": "markdown",
   "metadata": {},
   "source": [
    "Se eliminan las columnas que no serán utilizadas, `video`, `imdb_id`, `adult`, `original_title`, `poster_path` y `homepage`."
   ]
  },
  {
   "cell_type": "code",
   "execution_count": 29,
   "metadata": {},
   "outputs": [],
   "source": [
    "merged_df.drop(['video', 'adult', 'original_title', 'poster_path', 'homepage'], axis=1, inplace=True)\n"
   ]
  },
  {
   "cell_type": "markdown",
   "metadata": {},
   "source": [
    "## EDA (Análisis Exploratorio de los Datos)"
   ]
  },
  {
   "cell_type": "markdown",
   "metadata": {},
   "source": [
    "Guardamos nuestro DataFrame en una nueva variable"
   ]
  },
  {
   "cell_type": "code",
   "execution_count": 30,
   "metadata": {},
   "outputs": [],
   "source": [
    "new_df = merged_df"
   ]
  },
  {
   "cell_type": "code",
   "execution_count": 31,
   "metadata": {},
   "outputs": [
    {
     "data": {
      "text/html": [
       "<div>\n",
       "<style scoped>\n",
       "    .dataframe tbody tr th:only-of-type {\n",
       "        vertical-align: middle;\n",
       "    }\n",
       "\n",
       "    .dataframe tbody tr th {\n",
       "        vertical-align: top;\n",
       "    }\n",
       "\n",
       "    .dataframe thead th {\n",
       "        text-align: right;\n",
       "    }\n",
       "</style>\n",
       "<table border=\"1\" class=\"dataframe\">\n",
       "  <thead>\n",
       "    <tr style=\"text-align: right;\">\n",
       "      <th></th>\n",
       "      <th>belongs_to_collection</th>\n",
       "      <th>budget</th>\n",
       "      <th>genres</th>\n",
       "      <th>id</th>\n",
       "      <th>imdb_id</th>\n",
       "      <th>original_language</th>\n",
       "      <th>overview</th>\n",
       "      <th>popularity</th>\n",
       "      <th>production_companies</th>\n",
       "      <th>production_countries</th>\n",
       "      <th>release_date</th>\n",
       "      <th>revenue</th>\n",
       "      <th>runtime</th>\n",
       "      <th>spoken_languages</th>\n",
       "      <th>status</th>\n",
       "      <th>tagline</th>\n",
       "      <th>title</th>\n",
       "      <th>vote_average</th>\n",
       "      <th>vote_count</th>\n",
       "      <th>cast</th>\n",
       "      <th>crew</th>\n",
       "      <th>release_year</th>\n",
       "      <th>return</th>\n",
       "    </tr>\n",
       "  </thead>\n",
       "  <tbody>\n",
       "    <tr>\n",
       "      <th>0</th>\n",
       "      <td>Toy Story Collection</td>\n",
       "      <td>30000000</td>\n",
       "      <td>[Animation, Comedy, Family]</td>\n",
       "      <td>862</td>\n",
       "      <td>tt0114709</td>\n",
       "      <td>en</td>\n",
       "      <td>Led by Woody, Andy's toys live happily in his ...</td>\n",
       "      <td>21.946943</td>\n",
       "      <td>[Pixar Animation Studios]</td>\n",
       "      <td>[United States of America]</td>\n",
       "      <td>1995-10-30</td>\n",
       "      <td>373554033.0</td>\n",
       "      <td>81.0</td>\n",
       "      <td>[English]</td>\n",
       "      <td>Released</td>\n",
       "      <td>NaN</td>\n",
       "      <td>Toy Story</td>\n",
       "      <td>7.7</td>\n",
       "      <td>5415.0</td>\n",
       "      <td>[Tom Hanks, Tim Allen, Don Rickles, Jim Varney...</td>\n",
       "      <td>[John Lasseter]</td>\n",
       "      <td>1995</td>\n",
       "      <td>12.451801</td>\n",
       "    </tr>\n",
       "  </tbody>\n",
       "</table>\n",
       "</div>"
      ],
      "text/plain": [
       "  belongs_to_collection    budget                       genres   id  \\\n",
       "0  Toy Story Collection  30000000  [Animation, Comedy, Family]  862   \n",
       "\n",
       "     imdb_id original_language  \\\n",
       "0  tt0114709                en   \n",
       "\n",
       "                                            overview  popularity  \\\n",
       "0  Led by Woody, Andy's toys live happily in his ...   21.946943   \n",
       "\n",
       "        production_companies        production_countries release_date  \\\n",
       "0  [Pixar Animation Studios]  [United States of America]   1995-10-30   \n",
       "\n",
       "       revenue  runtime spoken_languages    status tagline      title  \\\n",
       "0  373554033.0     81.0        [English]  Released     NaN  Toy Story   \n",
       "\n",
       "   vote_average  vote_count  \\\n",
       "0           7.7      5415.0   \n",
       "\n",
       "                                                cast             crew  \\\n",
       "0  [Tom Hanks, Tim Allen, Don Rickles, Jim Varney...  [John Lasseter]   \n",
       "\n",
       "   release_year     return  \n",
       "0          1995  12.451801  "
      ]
     },
     "execution_count": 31,
     "metadata": {},
     "output_type": "execute_result"
    }
   ],
   "source": [
    "new_df.head(1)"
   ]
  },
  {
   "cell_type": "markdown",
   "metadata": {},
   "source": [
    "Se eligen las columnas `genres` `overview` `cast` `crew` para realizar nuestro modelo, además de las columnas `vote_count` y `popularity` a fin de que podamos ordenar por dichas columnas los resultados"
   ]
  },
  {
   "cell_type": "markdown",
   "metadata": {},
   "source": [
    "* Generamos un archivo .csv con el fin de guardar nuestros datos transformados y utilizarlos en nuestro modelo de entrenamiento"
   ]
  },
  {
   "cell_type": "code",
   "execution_count": 32,
   "metadata": {},
   "outputs": [],
   "source": [
    "new_df.to_csv('Datasets/test.csv', index= False)"
   ]
  },
  {
   "cell_type": "markdown",
   "metadata": {},
   "source": [
    "Importamos las librerías que vamos a utilizar"
   ]
  },
  {
   "cell_type": "code",
   "execution_count": 33,
   "metadata": {},
   "outputs": [],
   "source": [
    "import pandas as pd\n",
    "import numpy as np\n",
    "from surprise import Dataset, Reader, SVD\n",
    "from surprise.model_selection import train_test_split\n",
    "from sklearn.metrics.pairwise import cosine_similarity\n",
    "from sklearn.feature_extraction.text import TfidfVectorizer\n",
    "from sklearn.preprocessing import MinMaxScaler"
   ]
  },
  {
   "cell_type": "code",
   "execution_count": 34,
   "metadata": {},
   "outputs": [],
   "source": [
    "# Cargamos el archivo CSV\n",
    "movies_df = pd.read_csv('Datasets/test.csv')"
   ]
  },
  {
   "cell_type": "code",
   "execution_count": 35,
   "metadata": {},
   "outputs": [],
   "source": [
    "# Normalizamos las columnas'vote_count' y 'popularity' para ponderar\n",
    "scaler = MinMaxScaler()\n",
    "movies_df[['vote_count', 'popularity']] = scaler.fit_transform(movies_df[['vote_count', 'popularity']])"
   ]
  },
  {
   "cell_type": "code",
   "execution_count": 36,
   "metadata": {},
   "outputs": [],
   "source": [
    "# Creamos una columna combinada para 'genres', 'overview', 'cast', y 'crew' para similitud de contenido\n",
    "movies_df['content'] = (\n",
    "    movies_df['genres'].fillna('') + \" \" +\n",
    "    movies_df['overview'].fillna('') + \" \" +\n",
    "    movies_df['cast'].fillna('') + \" \" +\n",
    "    movies_df['crew'].fillna('')\n",
    ")"
   ]
  },
  {
   "cell_type": "code",
   "execution_count": 37,
   "metadata": {},
   "outputs": [],
   "source": [
    "# Vectorizamos el texto combinado con TF-IDF\n",
    "tfidf = TfidfVectorizer(stop_words='english')\n",
    "tfidf_matrix = tfidf.fit_transform(movies_df['content'])"
   ]
  },
  {
   "cell_type": "code",
   "execution_count": 38,
   "metadata": {},
   "outputs": [],
   "source": [
    "# Vectorizamos únicamente 'genres' para calcular la similitud específica de géneros\n",
    "tfidf_genres = TfidfVectorizer(stop_words='english')\n",
    "genres_matrix = tfidf_genres.fit_transform(movies_df['genres'].fillna(''))"
   ]
  },
  {
   "cell_type": "code",
   "execution_count": 39,
   "metadata": {},
   "outputs": [],
   "source": [
    "# Calculamos la similitud de coseno en ambas matrices (contenido y géneros)\n",
    "content_similarity = cosine_similarity(tfidf_matrix)\n",
    "genre_similarity = cosine_similarity(genres_matrix)"
   ]
  },
  {
   "cell_type": "code",
   "execution_count": 40,
   "metadata": {},
   "outputs": [],
   "source": [
    "# Construimos la matriz de similitud ponderada sumando los pesos de 'vote_average', 'popularity' y 'genres'\n",
    "weighted_similarity = (\n",
    "    content_similarity +\n",
    "    (movies_df['vote_average'].values[:, None] * 0.25) +\n",
    "    (movies_df['popularity'].values[:, None] * 0.5) +\n",
    "    (genre_similarity * 0.25)  # Ponderación de géneros\n",
    ")"
   ]
  },
  {
   "cell_type": "code",
   "execution_count": 41,
   "metadata": {},
   "outputs": [],
   "source": [
    "# Cambiamos el tipo de dato para hacer menos pesado la matriz de similaridad\n",
    "weighted_similarity = weighted_similarity.astype(np.float16)"
   ]
  },
  {
   "cell_type": "code",
   "execution_count": 42,
   "metadata": {},
   "outputs": [
    {
     "data": {
      "text/plain": [
       "<surprise.prediction_algorithms.matrix_factorization.SVD at 0x1ebf2a4b400>"
      ]
     },
     "execution_count": 42,
     "metadata": {},
     "output_type": "execute_result"
    }
   ],
   "source": [
    "# Realizamos filtrado colaborativo (SVD)\n",
    "reader = Reader(rating_scale=(1, 10))\n",
    "data = Dataset.load_from_df(movies_df[['id', 'vote_average', 'vote_count']], reader)\n",
    "trainset, testset = train_test_split(data, test_size=0.2)\n",
    "svd = SVD()\n",
    "svd.fit(trainset)"
   ]
  },
  {
   "cell_type": "code",
   "execution_count": 43,
   "metadata": {},
   "outputs": [],
   "source": [
    "# Definimos nuestra función de recomendación avanzada\n",
    "def recomendacion(title, n_recommendations=5):\n",
    "    # Verificar si el título existe en la base de datos\n",
    "    if title not in movies_df['title'].values:\n",
    "        print(\"El título no se encuentra en la base de datos.\")\n",
    "        return\n",
    "    \n",
    "    # Encontrar el índice de la película de interés\n",
    "    movie_index = movies_df[movies_df['title'] == title].index[0]\n",
    "    \n",
    "    # Obtener la colección de la película (si existe)\n",
    "    collection_name = movies_df.loc[movie_index, 'belongs_to_collection']\n",
    "    \n",
    "    # Obtener índices de películas similares\n",
    "    similarity_scores = list(enumerate(weighted_similarity[movie_index]))\n",
    "    similarity_scores = sorted(similarity_scores, key=lambda x: x[1], reverse=True)\n",
    "    similar_movies_indices = [i[0] for i in similarity_scores[1:n_recommendations + 10]]  # Obtener suficientes películas\n",
    "    \n",
    "    # Filtrar y priorizar recomendaciones\n",
    "    recommendations = movies_df.iloc[similar_movies_indices]\n",
    "    if pd.notna(collection_name):  # Si la película pertenece a una colección\n",
    "        # Películas de la misma colección primero\n",
    "        collection_movies = recommendations[recommendations['belongs_to_collection'] == collection_name]\n",
    "        # Luego las películas similares por géneros y ordenadas por popularidad y votos\n",
    "        other_movies = recommendations[recommendations['belongs_to_collection'] != collection_name]\n",
    "        other_movies = other_movies.sort_values(by=['popularity', 'vote_count'], ascending=False)\n",
    "        \n",
    "        # Combinar ambas listas\n",
    "        final_recommendations = pd.concat([collection_movies, other_movies]).head(n_recommendations)\n",
    "    else:\n",
    "        # Si no pertenece a una colección, solo ordenar por popularidad y votos\n",
    "        final_recommendations = recommendations.sort_values(by=['popularity', 'vote_count'], ascending=False).head(n_recommendations)\n",
    "    \n",
    "    print(f\"Películas recomendadas para '{title}':\")\n",
    "    for _, row in final_recommendations.iterrows():\n",
    "        print(f\"{row['title']} - Géneros: {row['genres']}, Puntuación: {row['vote_average']}, Popularidad: {row['popularity']}, Reparto: {row['cast']}, Director: {row['crew']}\")\n",
    "\n"
   ]
  },
  {
   "cell_type": "code",
   "execution_count": 44,
   "metadata": {},
   "outputs": [
    {
     "name": "stdout",
     "output_type": "stream",
     "text": [
      "Películas recomendadas para 'Star Wars':\n",
      "The Empire Strikes Back - Géneros: ['Adventure', 'Action', 'Science Fiction'], Puntuación: 8.2, Popularidad: 0.03556415556483729, Reparto: ['Mark Hamill', 'Harrison Ford', 'Carrie Fisher', 'Billy Dee Williams', 'Anthony Daniels'], Director: ['Irvin Kershner']\n",
      "Return of the Jedi - Géneros: ['Adventure', 'Action', 'Science Fiction'], Puntuación: 7.9, Popularidad: 0.026641824223976377, Reparto: ['Mark Hamill', 'Harrison Ford', 'Carrie Fisher', 'Billy Dee Williams', 'Anthony Daniels'], Director: ['Richard Marquand']\n",
      "Star Wars: The Force Awakens - Géneros: ['Action', 'Adventure', 'Science Fiction', 'Fantasy'], Puntuación: 7.5, Popularidad: 0.05776564196080771, Reparto: ['Daisy Ridley', 'John Boyega', 'Adam Driver', 'Harrison Ford', 'Oscar Isaac'], Director: ['J.J. Abrams']\n",
      "Star Wars: Episode I - The Phantom Menace - Géneros: ['Adventure', 'Action', 'Science Fiction'], Puntuación: 6.4, Popularidad: 0.028583425540174737, Reparto: ['Liam Neeson', 'Ewan McGregor', 'Natalie Portman', 'Jake Lloyd', 'Ian McDiarmid'], Director: ['George Lucas']\n",
      "Star Wars: Episode III - Revenge of the Sith - Géneros: ['Science Fiction', 'Adventure', 'Action'], Puntuación: 7.1, Popularidad: 0.02404694501799196, Reparto: ['Ewan McGregor', 'Natalie Portman', 'Hayden Christensen', 'Ian McDiarmid', 'Samuel L. Jackson'], Director: ['George Lucas']\n"
     ]
    }
   ],
   "source": [
    "# Probamos la función de recomendación\n",
    "recomendacion(\"Star Wars\")"
   ]
  },
  {
   "cell_type": "code",
   "execution_count": 45,
   "metadata": {},
   "outputs": [],
   "source": [
    "import pickle\n",
    "\n",
    "# Serializamos la matriz con pickle\n",
    "pickle.dump(weighted_similarity, open(\"Datasets/weighted_similarity.pkl\", \"wb\"))\n"
   ]
  },
  {
   "cell_type": "markdown",
   "metadata": {},
   "source": [
    "## Nota aclaratoria"
   ]
  },
  {
   "cell_type": "markdown",
   "metadata": {},
   "source": [
    "Se decide utilizar la mitad del dataset para obtener una matriz de entrenamiendo, con ello se genera el archivo sim.pkl con la finalidad de no realizar las iteraciones del modelo con cada vez que se busque una película y así evitar los errores de memoria en Render"
   ]
  },
  {
   "cell_type": "code",
   "execution_count": 46,
   "metadata": {},
   "outputs": [],
   "source": [
    "# Calcular el número de filas para la mitad del DataFrame\n",
    "half_index = len(movies_df) // 2\n",
    "\n",
    "# Dividir el DataFrame en dos mitades\n",
    "first_half = movies_df.iloc[:half_index]\n",
    "second_half = movies_df.iloc[half_index:]\n",
    "\n",
    "# Usar solo la primera mitad (o puedes trabajar con `second_half` si prefieres la otra mitad)\n",
    "movies_df2 = first_half"
   ]
  },
  {
   "cell_type": "code",
   "execution_count": 47,
   "metadata": {},
   "outputs": [
    {
     "name": "stderr",
     "output_type": "stream",
     "text": [
      "h:\\Sistema-de-Recomendacion-de-Peliculas\\venv\\lib\\site-packages\\ipykernel_launcher.py:10: SettingWithCopyWarning: \n",
      "A value is trying to be set on a copy of a slice from a DataFrame.\n",
      "Try using .loc[row_indexer,col_indexer] = value instead\n",
      "\n",
      "See the caveats in the documentation: https://pandas.pydata.org/pandas-docs/stable/user_guide/indexing.html#returning-a-view-versus-a-copy\n",
      "  # Remove the CWD from sys.path while we load stuff.\n",
      "h:\\Sistema-de-Recomendacion-de-Peliculas\\venv\\lib\\site-packages\\pandas\\core\\indexing.py:1734: SettingWithCopyWarning: \n",
      "A value is trying to be set on a copy of a slice from a DataFrame.\n",
      "Try using .loc[row_indexer,col_indexer] = value instead\n",
      "\n",
      "See the caveats in the documentation: https://pandas.pydata.org/pandas-docs/stable/user_guide/indexing.html#returning-a-view-versus-a-copy\n",
      "  isetter(loc, value[:, i].tolist())\n",
      "h:\\Sistema-de-Recomendacion-de-Peliculas\\venv\\lib\\site-packages\\ipykernel_launcher.py:17: SettingWithCopyWarning: \n",
      "A value is trying to be set on a copy of a slice from a DataFrame.\n",
      "Try using .loc[row_indexer,col_indexer] = value instead\n",
      "\n",
      "See the caveats in the documentation: https://pandas.pydata.org/pandas-docs/stable/user_guide/indexing.html#returning-a-view-versus-a-copy\n",
      "  app.launch_new_instance()\n"
     ]
    }
   ],
   "source": [
    "import pandas as pd\n",
    "from surprise import Dataset, Reader, SVD\n",
    "from surprise.model_selection import train_test_split\n",
    "from sklearn.metrics.pairwise import cosine_similarity\n",
    "from sklearn.feature_extraction.text import TfidfVectorizer\n",
    "from sklearn.preprocessing import MinMaxScaler\n",
    "\n",
    "# Normalizar 'vote_count' y 'popularity' para ponderación\n",
    "scaler = MinMaxScaler()\n",
    "movies_df2[['vote_count', 'popularity']] = scaler.fit_transform(movies_df2[['vote_count', 'popularity']])\n",
    "\n",
    "# Crear una columna combinada para 'genres', 'overview', 'cast', y 'crew' para similitud de contenido\n",
    "movies_df2['content'] = (\n",
    "    movies_df2['genres'].fillna('') + \" \" +\n",
    "    movies_df2['overview'].fillna('') + \" \" +\n",
    "    movies_df2['cast'].fillna('') + \" \" +\n",
    "    movies_df2['crew'].fillna('')\n",
    ")\n",
    "\n",
    "# Vectorizar el texto combinado con TF-IDF\n",
    "tfidf = TfidfVectorizer(stop_words='english')\n",
    "tfidf_matrix = tfidf.fit_transform(movies_df2['content'])\n",
    "\n",
    "# Vectorizar únicamente 'genres' para calcular la similitud específica de géneros\n",
    "tfidf_genres = TfidfVectorizer(stop_words='english')\n",
    "genres_matrix = tfidf_genres.fit_transform(movies_df2['genres'].fillna(''))\n",
    "\n",
    "# Calcular la similitud de coseno en ambas matrices (contenido y géneros)\n",
    "content_similarity = cosine_similarity(tfidf_matrix)\n",
    "genre_similarity = cosine_similarity(genres_matrix)\n",
    "\n",
    "# Construir la matriz de similitud ponderada sumando los pesos de 'vote_average', 'popularity' y 'genres'\n",
    "weighted_similarity2 = (\n",
    "    content_similarity +\n",
    "    (movies_df2['vote_average'].values[:, None] * 0.25) +\n",
    "    (movies_df2['popularity'].values[:, None] * 0.5) +\n",
    "    (genre_similarity * 0.25)  # Ponderación de géneros\n",
    ")\n",
    "\n",
    "# Serializamos la matriz con pickle\n",
    "pickle.dump(weighted_similarity2.astype(np.float16), open(\"Datasets/sim.pkl\", \"wb\"))"
   ]
  }
 ],
 "metadata": {
  "kernelspec": {
   "display_name": "venv",
   "language": "python",
   "name": "python3"
  },
  "language_info": {
   "codemirror_mode": {
    "name": "ipython",
    "version": 3
   },
   "file_extension": ".py",
   "mimetype": "text/x-python",
   "name": "python",
   "nbconvert_exporter": "python",
   "pygments_lexer": "ipython3",
   "version": "3.7.0"
  }
 },
 "nbformat": 4,
 "nbformat_minor": 2
}
